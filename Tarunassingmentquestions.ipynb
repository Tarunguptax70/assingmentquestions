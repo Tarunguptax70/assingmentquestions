{
 "cells": [
  {
   "cell_type": "markdown",
   "metadata": {},
   "source": [
    "# Lesson 1.2: Python Basics\n",
    "## Topics Covered:\n",
    "- Syntax and Semantics\n",
    "- Variables and Data Types\n",
    "- Basic Operators (Arithmetic, Comparison, Logical)\n"
   ]
  },
  {
   "cell_type": "markdown",
   "metadata": {},
   "source": [
    "## 1. Syntax and Semantics\n",
    "\n",
    "**Question 1:** Write a Python program to print \"Hello, World!\"."
   ]
  },
  {
   "cell_type": "code",
   "execution_count": 5,
   "metadata": {},
   "outputs": [
    {
     "name": "stdout",
     "output_type": "stream",
     "text": [
      "Hello, World\n"
     ]
    }
   ],
   "source": [
    "print(\"Hello, World\")"
   ]
  },
  {
   "cell_type": "markdown",
   "metadata": {},
   "source": [
    "**Question 2:** Write a Python program that takes a user input and prints it."
   ]
  },
  {
   "cell_type": "code",
   "execution_count": 4,
   "metadata": {},
   "outputs": [
    {
     "name": "stdout",
     "output_type": "stream",
     "text": [
      "5\n"
     ]
    }
   ],
   "source": [
    "a=input(\"enter the input\")\n",
    "print(a)"
   ]
  },
  {
   "cell_type": "markdown",
   "metadata": {},
   "source": [
    "**Question 3:** Write a Python program to check if a number is positive, negative, or zero."
   ]
  },
  {
   "cell_type": "code",
   "execution_count": 8,
   "metadata": {},
   "outputs": [
    {
     "name": "stdout",
     "output_type": "stream",
     "text": [
      "no. is negative\n"
     ]
    }
   ],
   "source": [
    "a=int(input(\"enter the input1\"))\n",
    "if(a>0):\n",
    "    print(\"no. is positive\")\n",
    "elif(a<0):\n",
    "    print(\"no. is negative\")\n",
    "else:\n",
    "    print(\"no. is zero\")"
   ]
  },
  {
   "cell_type": "markdown",
   "metadata": {},
   "source": [
    "**Question 4:** Write a Python program to find the largest of three numbers."
   ]
  },
  {
   "cell_type": "code",
   "execution_count": 7,
   "metadata": {},
   "outputs": [
    {
     "name": "stdout",
     "output_type": "stream",
     "text": [
      "9\n"
     ]
    }
   ],
   "source": [
    "a=int(input(\"enter the input1\"))\n",
    "b=int(input(\"enter the input2\"))\n",
    "c=int(input(\"enter the input3\"))\n",
    "if(a>b and a>c):\n",
    "    print(a)\n",
    "elif(a<b and b>c):\n",
    "    print(b)\n",
    "else:\n",
    "    print(c)"
   ]
  },
  {
   "cell_type": "markdown",
   "metadata": {},
   "source": [
    "**Question 5:** Write a Python program to calculate the factorial of a number."
   ]
  },
  {
   "cell_type": "code",
   "execution_count": 9,
   "metadata": {},
   "outputs": [
    {
     "name": "stdout",
     "output_type": "stream",
     "text": [
      "the factorial of  5 is  120\n"
     ]
    }
   ],
   "source": [
    "a=int(input(\"enter the input1\"))\n",
    "f=1\n",
    "for i in range(1,a+1):\n",
    "    f*=i\n",
    "print(\"the factorial of \",a,\"is \",f)"
   ]
  },
  {
   "cell_type": "markdown",
   "metadata": {},
   "source": [
    "## 2. Variables and Data Types\n",
    "\n",
    "**Question 6:** Create variables of different data types: integer, float, string, and boolean. Print their values and types."
   ]
  },
  {
   "cell_type": "code",
   "execution_count": 10,
   "metadata": {},
   "outputs": [
    {
     "name": "stdout",
     "output_type": "stream",
     "text": [
      "a= 5 b= 7.5 c= hello d= True\n",
      "Class of  5 is <class 'int'>\n",
      "Class of  7.5 is <class 'float'>\n",
      "Class of  hello is <class 'str'>\n",
      "Class of  True is <class 'bool'>\n"
     ]
    }
   ],
   "source": [
    "a=5\n",
    "b=7.5\n",
    "c=\"hello\"\n",
    "d=True\n",
    "print(\"a=\",a,\"b=\",b,\"c=\",c,\"d=\",d)\n",
    "print(\"Class of \",a,\"is\",type(a))\n",
    "print(\"Class of \",b,\"is\",type(b))\n",
    "print(\"Class of \",c,\"is\",type(c))\n",
    "print(\"Class of \",d,\"is\",type(d))"
   ]
  },
  {
   "cell_type": "markdown",
   "metadata": {},
   "source": [
    "**Question 7:** Write a Python program to swap the values of two variables."
   ]
  },
  {
   "cell_type": "code",
   "execution_count": 11,
   "metadata": {},
   "outputs": [
    {
     "name": "stdout",
     "output_type": "stream",
     "text": [
      "The value of a is 5\n",
      "The value of b is 7\n",
      "After swapping The value of a is 7\n",
      "After swapping The value of b is 5\n"
     ]
    }
   ],
   "source": [
    "a=5\n",
    "b=7\n",
    "print(\"The value of a is\",a)\n",
    "print(\"The value of b is\",b)\n",
    "c=a\n",
    "a=b\n",
    "b=c\n",
    "print(\"After swapping The value of a is\",a)\n",
    "print(\"After swapping The value of b is\",b)"
   ]
  },
  {
   "cell_type": "markdown",
   "metadata": {},
   "source": [
    "**Question 8:** Write a Python program to convert Celsius to Fahrenheit."
   ]
  },
  {
   "cell_type": "code",
   "execution_count": null,
   "metadata": {},
   "outputs": [],
   "source": [
    "# Your code herec=int(input(\"enter the temprature in celsius\"))\n",
    "f=((9*c)/5)+32\n",
    "print(\"the temprature in fahrenheit is\",f)"
   ]
  },
  {
   "cell_type": "markdown",
   "metadata": {},
   "source": [
    "**Question 9:** Write a Python program to concatenate two strings."
   ]
  },
  {
   "cell_type": "code",
   "execution_count": 12,
   "metadata": {},
   "outputs": [
    {
     "name": "stdout",
     "output_type": "stream",
     "text": [
      "hello,world\n"
     ]
    }
   ],
   "source": [
    "a=\"hello,\"\n",
    "b=\"world\"\n",
    "print(a+b)"
   ]
  },
  {
   "cell_type": "markdown",
   "metadata": {},
   "source": [
    "**Question 10:** Write a Python program to check if a variable is of a specific data type."
   ]
  },
  {
   "cell_type": "code",
   "execution_count": 13,
   "metadata": {},
   "outputs": [
    {
     "name": "stdout",
     "output_type": "stream",
     "text": [
      "a is the integer\n"
     ]
    }
   ],
   "source": [
    "a=5\n",
    "if (type(a)==str):\n",
    "    print(\"a is the string\")\n",
    "elif (type(a)==int):\n",
    "    print(\"a is the integer\")\n",
    "elif (type(a)==float):\n",
    "    print(\"a is the floating point no.\")\n",
    "else:\n",
    "    print(\"a is boolean datatype\")"
   ]
  },
  {
   "cell_type": "markdown",
   "metadata": {},
   "source": [
    "## 3. Basic Operators (Arithmetic, Comparison, Logical)\n",
    "\n",
    "**Question 11:** Write a Python program to perform arithmetic operations: addition, subtraction, multiplication, and division."
   ]
  },
  {
   "cell_type": "code",
   "execution_count": 14,
   "metadata": {},
   "outputs": [
    {
     "name": "stdout",
     "output_type": "stream",
     "text": [
      "100\n",
      "90\n",
      "475\n",
      "19.0\n"
     ]
    }
   ],
   "source": [
    "a=95\n",
    "b=5\n",
    "print(a+b)\n",
    "print(a-b)\n",
    "print(a*b)\n",
    "print(a/b)\n"
   ]
  },
  {
   "cell_type": "markdown",
   "metadata": {},
   "source": [
    "**Question 12:** Write a Python program to demonstrate comparison operators: equal to, not equal to, greater than, less than."
   ]
  },
  {
   "cell_type": "code",
   "execution_count": 15,
   "metadata": {},
   "outputs": [
    {
     "name": "stdout",
     "output_type": "stream",
     "text": [
      "5 is less than 95\n"
     ]
    }
   ],
   "source": [
    "a=95\n",
    "b=5\n",
    "if(a==b):\n",
    "    print(a,\"is equal to\",b)\n",
    "elif(a<b):\n",
    "    print(a,\"is less than\",b)\n",
    "elif(a>b):\n",
    "    print(b,\"is less than\",a)\n",
    "else:\n",
    "    print(a,\" and\", b ,\"are not equal\")"
   ]
  },
  {
   "cell_type": "markdown",
   "metadata": {},
   "source": [
    "**Question 13:** Write a Python program to demonstrate logical operators: and, or, not."
   ]
  },
  {
   "cell_type": "code",
   "execution_count": null,
   "metadata": {},
   "outputs": [],
   "source": [
    "num1 = int(input(\"Enter the first number: \"))\n",
    "num2 = int(input(\"Enter the second number: \"))\n",
    "if num1 > 0 and num2 > 0:\n",
    "    print(\"Both numbers are positive.\")\n",
    "if num1 < 0 or num2 < 0:\n",
    "    print(\"At least one of the numbers is negative.\")\n",
    "if not (num1 == num2):\n",
    "    print(\"The two numbers are not equal.\")\n",
    "else:\n",
    "    print(\"The two numbers are equal.\")"
   ]
  },
  {
   "cell_type": "markdown",
   "metadata": {},
   "source": [
    "**Question 14:** Write a Python program to calculate the square of a number."
   ]
  },
  {
   "cell_type": "code",
   "execution_count": 16,
   "metadata": {},
   "outputs": [
    {
     "name": "stdout",
     "output_type": "stream",
     "text": [
      "the square of 95 is 9025\n"
     ]
    }
   ],
   "source": [
    "a=95\n",
    "sq=a*a\n",
    "print(\"the square of\",a,\"is\",sq)\n"
   ]
  },
  {
   "cell_type": "markdown",
   "metadata": {},
   "source": [
    "**Question 15:** Write a Python program to check if a number is even or odd."
   ]
  },
  {
   "cell_type": "code",
   "execution_count": null,
   "metadata": {},
   "outputs": [],
   "source": [
    "a=550\n",
    "if(a%2==0):\n",
    "    print(\"the no.\",a,\" is even\")\n",
    "    \n",
    "elif(a%2!=0):\n",
    "    print(\"the no.\",a,\" is odd\")"
   ]
  },
  {
   "cell_type": "markdown",
   "metadata": {},
   "source": [
    "**Question 16:** Write a Python program to find the sum of the first n natural numbers."
   ]
  },
  {
   "cell_type": "code",
   "execution_count": null,
   "metadata": {},
   "outputs": [],
   "source": [
    "a=int(input(\"enter no. till which u want ot calculate the sums\"))\n",
    "s=0\n",
    "for i in range(1,a+1):\n",
    "    s+=i\n",
    "\n",
    "print(\"the sum of 1st\",a, \" natural no.s is\", s)\n"
   ]
  },
  {
   "cell_type": "markdown",
   "metadata": {},
   "source": [
    "**Question 17:** Write a Python program to check if a year is a leap year."
   ]
  },
  {
   "cell_type": "code",
   "execution_count": null,
   "metadata": {},
   "outputs": [],
   "source": [
    "a=int(input(\"enter the year\"))\n",
    "if(a%4==0):\n",
    "    print(\"this year is a lear year\")\n",
    "elif(a%4!=0):\n",
    "    print(\"this year is not a lear year\")\n"
   ]
  },
  {
   "cell_type": "markdown",
   "metadata": {},
   "source": [
    "**Question 18:** Write a Python program to reverse a string."
   ]
  },
  {
   "cell_type": "code",
   "execution_count": 17,
   "metadata": {},
   "outputs": [
    {
     "name": "stdout",
     "output_type": "stream",
     "text": [
      "dlroW,olleH\n"
     ]
    }
   ],
   "source": [
    "a=\"Hello,World\"\n",
    "s=a[::-1]\n",
    "print(s)"
   ]
  },
  {
   "cell_type": "markdown",
   "metadata": {},
   "source": [
    "**Question 19:** Write a Python program to check if a string is a palindrome."
   ]
  },
  {
   "cell_type": "code",
   "execution_count": null,
   "metadata": {},
   "outputs": [],
   "source": [
    "a=\"radar\"\n",
    "s=a[::-1]\n",
    "if(a==s):\n",
    "    print(a,\"is a palindrome\")\n",
    "elif(a!=s):\n",
    "    print(a,\"is not a palindrome\")"
   ]
  },
  {
   "cell_type": "markdown",
   "metadata": {},
   "source": [
    "**Question 20:** Write a Python program to sort a list of numbers in ascending order."
   ]
  },
  {
   "cell_type": "code",
   "execution_count": 18,
   "metadata": {},
   "outputs": [
    {
     "name": "stdout",
     "output_type": "stream",
     "text": [
      "[5, 6, 8, 25, 69, 77, 99, 345]\n"
     ]
    }
   ],
   "source": [
    "lst=[8,6,77,99,25,345,5,69]\n",
    "lst.sort()\n",
    "print(lst)"
   ]
  }
 ],
 "metadata": {
  "kernelspec": {
   "display_name": "Python 3",
   "language": "python",
   "name": "python3"
  },
  "language_info": {
   "codemirror_mode": {
    "name": "ipython",
    "version": 3
   },
   "file_extension": ".py",
   "mimetype": "text/x-python",
   "name": "python",
   "nbconvert_exporter": "python",
   "pygments_lexer": "ipython3",
   "version": "3.10.4"
  }
 },
 "nbformat": 4,
 "nbformat_minor": 4
}

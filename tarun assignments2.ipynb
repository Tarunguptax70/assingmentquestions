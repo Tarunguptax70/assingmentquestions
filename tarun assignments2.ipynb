{
 "cells": [
  {
   "cell_type": "markdown",
   "metadata": {},
   "source": [
    "# Module 2: Control Flow Assignments\n",
    "## Lesson 2.1: Conditional Statements\n",
    "### Assignment 1: Simple if Statement\n",
    "\n",
    "Write a program that asks the user to input a number and prints whether the number is positive.\n",
    "\n",
    "### Assignment 2: if-else Statement\n",
    "\n",
    "Write a program that asks the user to input a number and prints whether the number is positive or negative.\n",
    "\n",
    "### Assignment 3: if-elif-else Statement\n",
    "\n",
    "Write a program that asks the user to input a number and prints whether the number is positive, negative, or zero.\n",
    "\n",
    "### Assignment 4: Nested if Statement\n",
    "\n",
    "Write a program that asks the user to input a number and prints whether the number is positive and even, positive and odd, or negative.\n",
    "\n",
    "## Lesson 2.2: Loops\n",
    "### Assignment 5: for Loop\n",
    "\n",
    "Write a program that prints all the numbers from 1 to 10 using a for loop.\n",
    "\n",
    "### Assignment 6: while Loop\n",
    "\n",
    "Write a program that prints all the numbers from 1 to 10 using a while loop.\n",
    "\n",
    "### Assignment 7: Nested Loops\n",
    "\n",
    "Write a program that prints a 5x5 grid of asterisks (*) using nested loops.\n",
    "\n",
    "### Assignment 8: break Statement\n",
    "\n",
    "Write a program that asks the user to input numbers until they input 0. The program should print the sum of all the input numbers.\n",
    "\n",
    "### Assignment 9: continue Statement\n",
    "\n",
    "Write a program that prints all the numbers from 1 to 10 except 5 using a for loop and continue statement.\n",
    "\n",
    "### Assignment 10: pass Statement\n",
    "\n",
    "Write a program that defines an empty function using the pass statement.\n",
    "\n",
    "### Assignment 11: Combining Loops and Conditionals\n",
    "\n",
    "Write a program that asks the user to input a number and prints all the even numbers from 1 to that number using a for loop.\n",
    "\n",
    "### Assignment 12: Factorial Calculation\n",
    "\n",
    "Write a program that calculates the factorial of a number input by the user using a while loop.\n",
    "\n",
    "### Assignment 13: Sum of Digits\n",
    "\n",
    "Write a program that calculates the sum of the digits of a number input by the user using a while loop.\n",
    "\n",
    "### Assignment 14: Prime Number Check\n",
    "\n",
    "Write a program that checks if a number input by the user is a prime number using a for loop.\n",
    "\n",
    "### Assignment 15: Fibonacci Sequence\n",
    "\n",
    "Write a program that prints the first n Fibonacci numbers, where n is input by the user."
   ]
  },
  {
   "cell_type": "code",
   "execution_count": null,
   "id": "ac21e21a",
   "metadata": {},
   "outputs": [],
   "source": [
    "#1st\n",
    "a=int(input(\"enter the input1\"))\n",
    "if(a>=0):\n",
    "    print(\"no. is positive\")"
   ]
  },
  {
   "cell_type": "code",
   "execution_count": null,
   "metadata": {},
   "outputs": [],
   "source": [
    "#2nd\n",
    "a=int(input(\"enter the input1\"))\n",
    "if(a>=0):\n",
    "    print(\"no. is positive\")\n",
    "else:\n",
    "    print(\"no. is negative\")"
   ]
  },
  {
   "cell_type": "code",
   "execution_count": null,
   "id": "e3df4366",
   "metadata": {},
   "outputs": [],
   "source": [
    "#3rd\n",
    "a=int(input(\"enter the input1\"))\n",
    "if(a>0):\n",
    "    print(\"no. is positive\")\n",
    "elif(a<0):\n",
    "    print(\"no. is negative\")\n",
    "else:\n",
    "    print(\"no. is zero\")"
   ]
  },
  {
   "cell_type": "code",
   "execution_count": null,
   "id": "f5062374",
   "metadata": {},
   "outputs": [],
   "source": [
    "#4th\n",
    "a=int(input(\"enter the input1\"))\n",
    "if(a>=0):\n",
    "    print(\"no. is positive\")\n",
    "    if(a%2==0):\n",
    "        print(\"no. is even\")\n",
    "    elif(a%2!=0):\n",
    "        print(\"no. is odd\")\n",
    "else:\n",
    "    print(\"no. is negative\")"
   ]
  },
  {
   "cell_type": "code",
   "execution_count": null,
   "id": "da504633",
   "metadata": {},
   "outputs": [],
   "source": [
    "#5th\n",
    "for i in range(1,11):\n",
    "    print(i)"
   ]
  },
  {
   "cell_type": "code",
   "execution_count": null,
   "id": "348aca63",
   "metadata": {},
   "outputs": [],
   "source": [
    "#6th\n",
    "i=1\n",
    "while(i<11):\n",
    "    print(i)\n",
    "    i+=1"
   ]
  },
  {
   "cell_type": "code",
   "execution_count": null,
   "id": "c4a0405b",
   "metadata": {},
   "outputs": [],
   "source": [
    "#7th\n",
    "for i in range(5):\n",
    "    for j in range(5):\n",
    "        print('*',end='')\n",
    "    print()"
   ]
  },
  {
   "cell_type": "code",
   "execution_count": null,
   "id": "93bc158e",
   "metadata": {},
   "outputs": [],
   "source": [
    "#8th\n",
    "i=0\n",
    "while True:\n",
    "    a=int(input(\"enter any no.\"))\n",
    "    if(a!=0):\n",
    "       i+=a \n",
    "    else:\n",
    "        break\n",
    "print(\"the sum of all the no.s entered till now is \",i)"
   ]
  },
  {
   "cell_type": "code",
   "execution_count": null,
   "id": "142d6042",
   "metadata": {},
   "outputs": [],
   "source": [
    "#9th\n",
    "for i in range(1,11):\n",
    "    if(i==5):\n",
    "        continue\n",
    "    else:\n",
    "        print(i)"
   ]
  },
  {
   "cell_type": "code",
   "execution_count": 9,
   "id": "690124fe",
   "metadata": {},
   "outputs": [],
   "source": [
    "#10th\n",
    "def my_function():\n",
    "    pass"
   ]
  },
  {
   "cell_type": "code",
   "execution_count": null,
   "id": "7fc19076",
   "metadata": {},
   "outputs": [],
   "source": [
    "#11th\n",
    "a=int(input(\"enter any no. \"))\n",
    "for i in range(1,a+1):\n",
    "    if(i%2==0):\n",
    "        print(i)"
   ]
  },
  {
   "cell_type": "code",
   "execution_count": 10,
   "id": "8eed5df9",
   "metadata": {},
   "outputs": [
    {
     "name": "stdout",
     "output_type": "stream",
     "text": [
      "120\n"
     ]
    }
   ],
   "source": [
    "#12\n",
    "a=int(input(\"enter any no. \"))\n",
    "i=1\n",
    "b=1\n",
    "while(i<=a):\n",
    "    b*=i\n",
    "    i+=1\n",
    "print(b)"
   ]
  },
  {
   "cell_type": "code",
   "execution_count": null,
   "id": "45571e51",
   "metadata": {},
   "outputs": [],
   "source": [
    "#13\n",
    "a=int(input(\"enter any no. \"))\n",
    "i=0\n",
    "while a>0:\n",
    "    b = a % 10\n",
    "    i += b  \n",
    "    a //= 10\n",
    "print(\"The sum of the digits is:\",i)"
   ]
  },
  {
   "cell_type": "code",
   "execution_count": null,
   "id": "dfd20e4d",
   "metadata": {},
   "outputs": [],
   "source": [
    "#14\n",
    "a=int(input(\"enter any no. \"))\n",
    "if a>1:\n",
    "    for i in range(2,a):\n",
    "        if(a%i==0):\n",
    "            print(\"the no. is not a prime no.\")\n",
    "            break\n",
    "    else:\n",
    "        print(\"the no. is a prime no.\")"
   ]
  },
  {
   "cell_type": "code",
   "execution_count": null,
   "id": "1ce39461",
   "metadata": {},
   "outputs": [],
   "source": [
    "#15\n",
    "n=int(input(\"enter the no. of terms \"))\n",
    "a,b=0,1\n",
    "for i in range(n):\n",
    "    print(a,end=',')\n",
    "    a,b=b,a+b"
   ]
  }
 ],
 "metadata": {
  "kernelspec": {
   "display_name": "Python 3",
   "language": "python",
   "name": "python3"
  },
  "language_info": {
   "codemirror_mode": {
    "name": "ipython",
    "version": 3
   },
   "file_extension": ".py",
   "mimetype": "text/x-python",
   "name": "python",
   "nbconvert_exporter": "python",
   "pygments_lexer": "ipython3",
   "version": "3.10.4"
  }
 },
 "nbformat": 4,
 "nbformat_minor": 5
}
